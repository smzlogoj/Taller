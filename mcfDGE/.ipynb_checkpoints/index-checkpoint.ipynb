{
 "cells": [
  {
   "cell_type": "raw",
   "id": "88c204cc-f6e4-4900-9df8-7c0fd4bd44bd",
   "metadata": {},
   "source": [
    "---\n",
    "title: Análisis Diferencial ModenCodeFly\n",
    "author: José Antonio López Gómez\n",
    "execute:\n",
    "    warning: false\n",
    "    message: false\n",
    "    echo: false\n",
    "toc: true\n",
    "number-sections: true\n",
    "format:\n",
    "    html:\n",
    "        theme: journal\n",
    "---"
   ]
  },
  {
   "cell_type": "code",
   "execution_count": null,
   "id": "95a9538b-9a82-4770-ba3e-c0a50c8582b7",
   "metadata": {},
   "outputs": [],
   "source": []
  }
 ],
 "metadata": {
  "kernelspec": {
   "display_name": "R",
   "language": "R",
   "name": "ir"
  },
  "language_info": {
   "codemirror_mode": "r",
   "file_extension": ".r",
   "mimetype": "text/x-r-source",
   "name": "R",
   "pygments_lexer": "r",
   "version": "4.4.1"
  }
 },
 "nbformat": 4,
 "nbformat_minor": 5
}
